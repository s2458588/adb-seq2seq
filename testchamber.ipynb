{
 "cells": [
  {
   "cell_type": "code",
   "execution_count": 4,
   "outputs": [],
   "source": [
    "import json"
   ],
   "metadata": {
    "collapsed": false,
    "ExecuteTime": {
     "end_time": "2023-08-22T10:53:52.636513198Z",
     "start_time": "2023-08-22T10:53:52.595015243Z"
    }
   },
   "id": "cc28838d6a3f080a"
  },
  {
   "cell_type": "code",
   "execution_count": 5,
   "id": "initial_id",
   "metadata": {
    "collapsed": true,
    "ExecuteTime": {
     "end_time": "2023-08-22T10:53:54.494945212Z",
     "start_time": "2023-08-22T10:53:53.361516783Z"
    }
   },
   "outputs": [],
   "source": [
    "with open(\"data/fremdwoerter-clean.json\", \"r\", encoding=\"utf8\") as f:\n",
    "    data = json.load(f)"
   ]
  },
  {
   "cell_type": "code",
   "execution_count": 56,
   "outputs": [],
   "source": [
    "# vocabs\n",
    "vocipa = set()\n",
    "vocwort = set()\n",
    "vocumschrift = set()\n",
    "\n",
    "for i in data:\n",
    "    if i[\"ipa\"]:\n",
    "        vocipa |= set(i[\"ipa\"])\n",
    "for i in data:\n",
    "    if i[\"wort\"]:\n",
    "        vocwort |= set(i[\"wort\"])\n",
    "for i in data:\n",
    "    if i[\"umschrift\"]:\n",
    "        vocumschrift |= set(i[\"umschrift\"])"
   ],
   "metadata": {
    "collapsed": false,
    "ExecuteTime": {
     "end_time": "2023-08-22T11:36:44.501970818Z",
     "start_time": "2023-08-22T11:36:43.199408088Z"
    }
   },
   "id": "31c48fbb5aa4be6c"
  },
  {
   "cell_type": "code",
   "execution_count": 57,
   "outputs": [],
   "source": [
    "with open(\"data/vocabs/ipa.vocab\", \"w\", encoding=\"utf8\") as v:\n",
    "    v.write('\\n'.join(vocipa))\n",
    "with open(\"data/vocabs/wort.vocab\", \"w\", encoding=\"utf8\") as v:\n",
    "    v.write('\\n'.join(vocwort))\n",
    "with open(\"data/vocabs/umschrift.vocab\", \"w\", encoding=\"utf8\") as v:\n",
    "    v.write('\\n'.join(vocumschrift))"
   ],
   "metadata": {
    "collapsed": false,
    "ExecuteTime": {
     "end_time": "2023-08-22T11:36:45.842027728Z",
     "start_time": "2023-08-22T11:36:45.832447720Z"
    }
   },
   "id": "7cd1e8fcfdeaa42d"
  },
  {
   "cell_type": "code",
   "execution_count": null,
   "outputs": [],
   "source": [],
   "metadata": {
    "collapsed": false
   },
   "id": "7314b057ad8892be"
  }
 ],
 "metadata": {
  "kernelspec": {
   "display_name": "Python 3",
   "language": "python",
   "name": "python3"
  },
  "language_info": {
   "codemirror_mode": {
    "name": "ipython",
    "version": 2
   },
   "file_extension": ".py",
   "mimetype": "text/x-python",
   "name": "python",
   "nbconvert_exporter": "python",
   "pygments_lexer": "ipython2",
   "version": "2.7.6"
  }
 },
 "nbformat": 4,
 "nbformat_minor": 5
}
