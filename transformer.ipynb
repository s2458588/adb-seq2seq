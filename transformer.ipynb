{
 "cells": [
  {
   "cell_type": "code",
   "execution_count": 2,
   "id": "initial_id",
   "metadata": {
    "collapsed": true,
    "ExecuteTime": {
     "end_time": "2023-08-25T17:02:27.207859099Z",
     "start_time": "2023-08-25T17:02:27.175648726Z"
    }
   },
   "outputs": [],
   "source": [
    "from tokenizers import Tokenizer\n",
    "from tokenizers.models import  BPE\n",
    "from tokenizers import trainers\n",
    "import json"
   ]
  },
  {
   "cell_type": "code",
   "execution_count": 2,
   "outputs": [],
   "source": [
    "with open(\"data/fremdwoerter-clean.json\", \"r\", encoding=\"utf8\") as f:\n",
    "    data = json.load(f) "
   ],
   "metadata": {
    "collapsed": false,
    "ExecuteTime": {
     "end_time": "2023-08-22T20:34:11.063824575Z",
     "start_time": "2023-08-22T20:34:09.951200370Z"
    }
   },
   "id": "2a02751391771e9e"
  },
  {
   "cell_type": "code",
   "execution_count": 4,
   "outputs": [],
   "source": [
    "import torch"
   ],
   "metadata": {
    "collapsed": false,
    "ExecuteTime": {
     "end_time": "2023-08-25T17:02:34.783680252Z",
     "start_time": "2023-08-25T17:02:33.460453505Z"
    }
   },
   "id": "f36f9733a253a700"
  },
  {
   "cell_type": "code",
   "execution_count": 7,
   "outputs": [
    {
     "data": {
      "text/plain": "'2.0.1+cu117'"
     },
     "execution_count": 7,
     "metadata": {},
     "output_type": "execute_result"
    }
   ],
   "source": [
    "torch.__version__"
   ],
   "metadata": {
    "collapsed": false,
    "ExecuteTime": {
     "end_time": "2023-08-25T17:14:38.810696739Z",
     "start_time": "2023-08-25T17:14:38.768091759Z"
    }
   },
   "id": "ec9fe7ab3110ae03"
  },
  {
   "cell_type": "code",
   "execution_count": 3,
   "outputs": [],
   "source": [
    "tokenizer = Tokenizer(BPE(unk_token=\"[UNK\"))"
   ],
   "metadata": {
    "collapsed": false,
    "ExecuteTime": {
     "end_time": "2023-08-22T20:34:15.080996542Z",
     "start_time": "2023-08-22T20:34:15.074253994Z"
    }
   },
   "id": "80ed8517ee726b36"
  },
  {
   "cell_type": "code",
   "execution_count": 4,
   "outputs": [],
   "source": [
    "from tokenizers.trainers import BpeTrainer"
   ],
   "metadata": {
    "collapsed": false,
    "ExecuteTime": {
     "end_time": "2023-08-22T20:34:16.681548998Z",
     "start_time": "2023-08-22T20:34:16.657435143Z"
    }
   },
   "id": "bf9dfc6aadebbc7"
  },
  {
   "cell_type": "code",
   "execution_count": 5,
   "outputs": [],
   "source": [
    "trainer = BpeTrainer(vocab_size=2000,\n",
    "                     \n",
    "                     special_tokens=[\"UNK\", \"CLS\", \"SEP\", \"PAD\", \"MASK\"])"
   ],
   "metadata": {
    "collapsed": false,
    "ExecuteTime": {
     "end_time": "2023-08-22T20:34:21.631109268Z",
     "start_time": "2023-08-22T20:34:21.624766819Z"
    }
   },
   "id": "7d47862f661b844b"
  },
  {
   "cell_type": "code",
   "execution_count": 6,
   "outputs": [],
   "source": [
    "from transformers import BertTokenizerFast"
   ],
   "metadata": {
    "collapsed": false,
    "ExecuteTime": {
     "end_time": "2023-08-22T20:34:22.314714051Z",
     "start_time": "2023-08-22T20:34:21.968545597Z"
    }
   },
   "id": "f77cf85e4142b5be"
  },
  {
   "cell_type": "code",
   "execution_count": 11,
   "outputs": [],
   "source": [
    "ntk = BertTokenizerFast(vocab_file=\"./model/ipa.vocab\",\n",
    "                        sep_token=\"[SEP]\",\n",
    "                        unk_token=\"[UNK]\",\n",
    "                        mask_token=\"[MASK]\",\n",
    "                        cls_token=\"[CLS]\",\n",
    "                        pad_token=\"[PAD]\",\n",
    "                        max_len=128)"
   ],
   "metadata": {
    "collapsed": false,
    "ExecuteTime": {
     "end_time": "2023-08-22T20:46:36.486903480Z",
     "start_time": "2023-08-22T20:46:36.474378503Z"
    }
   },
   "id": "99c5cdad2951e5fb"
  },
  {
   "cell_type": "code",
   "execution_count": null,
   "outputs": [],
   "source": [
    "train_tk = trainers.WordPieceTrainer(vocab_size=6000, min_frequency=2, \n",
    "                                     show_progress=True,special_tokens=[\"[SEP]\",\"[MASK]\",\"[CLS]\",\"[UNK]\",\"[SEP]\"])"
   ],
   "metadata": {
    "collapsed": false
   },
   "id": "fa9ed326900c916"
  }
 ],
 "metadata": {
  "kernelspec": {
   "display_name": "Python 3",
   "language": "python",
   "name": "python3"
  },
  "language_info": {
   "codemirror_mode": {
    "name": "ipython",
    "version": 2
   },
   "file_extension": ".py",
   "mimetype": "text/x-python",
   "name": "python",
   "nbconvert_exporter": "python",
   "pygments_lexer": "ipython2",
   "version": "2.7.6"
  }
 },
 "nbformat": 4,
 "nbformat_minor": 5
}
